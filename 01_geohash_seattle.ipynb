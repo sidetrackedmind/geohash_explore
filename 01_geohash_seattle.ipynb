{
 "cells": [
  {
   "cell_type": "code",
   "execution_count": 1,
   "metadata": {
    "ExecuteTime": {
     "end_time": "2019-10-24T13:58:07.035103Z",
     "start_time": "2019-10-24T13:58:05.761858Z"
    }
   },
   "outputs": [],
   "source": [
    "import pandas as pd\n",
    "from math import sin, cos, sqrt, atan2, radians\n",
    "import numpy as np\n",
    "import os\n",
    "import time\n",
    "import gc\n",
    "import geopandas as gpd\n",
    "from geolib import geohash\n",
    "import matplotlib.pyplot as plt\n",
    "# geohash.encode(latitude, longitude, precision)\n",
    "# >>> geohash.encode('70.2995', '-27.9993', 7)\n",
    "# >>> gkkpfve\n",
    "# >>> geohash.decode('gkkpfve')\n",
    "# >>> (70.2995, -27.9993)\n",
    "# >>> neighbours = geohash.neighbours('gcpuyph')\n",
    "# >>> neighbours\n",
    "%matplotlib inline"
   ]
  },
  {
   "cell_type": "code",
   "execution_count": 2,
   "metadata": {
    "ExecuteTime": {
     "end_time": "2019-10-24T13:58:07.046257Z",
     "start_time": "2019-10-24T13:58:07.039079Z"
    }
   },
   "outputs": [],
   "source": [
    "from shapely.geometry import Point, Polygon"
   ]
  },
  {
   "cell_type": "code",
   "execution_count": 3,
   "metadata": {
    "ExecuteTime": {
     "end_time": "2019-10-24T13:58:07.789960Z",
     "start_time": "2019-10-24T13:58:07.050744Z"
    }
   },
   "outputs": [],
   "source": [
    "city_df = gpd.read_file(\"king_county_admin_mapfiles/city.shp\")"
   ]
  },
  {
   "cell_type": "code",
   "execution_count": 4,
   "metadata": {
    "ExecuteTime": {
     "end_time": "2019-10-24T13:58:08.510468Z",
     "start_time": "2019-10-24T13:58:07.793318Z"
    }
   },
   "outputs": [
    {
     "data": {
      "image/png": "[encoded data removed]",
      "text/plain": [
       "<Figure size 360x864 with 1 Axes>"
      ]
     },
     "metadata": {
      "needs_background": "light"
     },
     "output_type": "display_data"
    }
   ],
   "source": [
    "fig, ax = plt.subplots(figsize=(5,12))\n",
    "city_of_interest = 'Seattle'\n",
    "single_city = city_df[city_df['CITYNAME']==city_of_interest].copy()\n",
    "\n",
    "single_city.plot(color='none', \n",
    "                   edgecolor='black', \n",
    "                   legend=True,\n",
    "                  ax=ax)\n",
    "\n",
    "_ = single_city.apply(lambda x: ax.annotate(s=x['CITYNAME'], \n",
    "                                           xy=(x.geometry.centroid.x, \n",
    "                                               x.geometry.centroid.y), ha='center'),axis=1)"
   ]
  },
  {
   "cell_type": "code",
   "execution_count": 5,
   "metadata": {
    "ExecuteTime": {
     "end_time": "2019-10-24T13:58:08.759881Z",
     "start_time": "2019-10-24T13:58:08.514775Z"
    }
   },
   "outputs": [],
   "source": [
    "single_city.to_crs({'init': 'epsg:4326'}, inplace=True)"
   ]
  },
  {
   "cell_type": "code",
   "execution_count": 6,
   "metadata": {
    "ExecuteTime": {
     "end_time": "2019-10-24T13:58:08.878453Z",
     "start_time": "2019-10-24T13:58:08.763991Z"
    }
   },
   "outputs": [
    {
     "data": {
      "text/plain": [
       "[-122.45968008362588,\n",
       " 47.47334752062687,\n",
       " -122.21723116846032,\n",
       " 47.73424598428268]"
      ]
     },
     "execution_count": 6,
     "metadata": {},
     "output_type": "execute_result"
    }
   ],
   "source": [
    "seattle_bounds = single_city.bounds.values[0].tolist()\n",
    "seattle_bounds"
   ]
  },
  {
   "cell_type": "code",
   "execution_count": 7,
   "metadata": {
    "ExecuteTime": {
     "end_time": "2019-10-24T13:58:09.087542Z",
     "start_time": "2019-10-24T13:58:08.882317Z"
    }
   },
   "outputs": [],
   "source": [
    "upperleft_lon = single_city.bounds.minx.values[0]\n",
    "upperleft_lat = single_city.bounds.maxy.values[0]"
   ]
  },
  {
   "cell_type": "code",
   "execution_count": 8,
   "metadata": {
    "ExecuteTime": {
     "end_time": "2019-10-24T13:58:09.361287Z",
     "start_time": "2019-10-24T13:58:09.091886Z"
    }
   },
   "outputs": [],
   "source": [
    "upperleft_geohash = geohash.encode(upperleft_lat, upperleft_lon, precision=9)"
   ]
  },
  {
   "cell_type": "markdown",
   "metadata": {},
   "source": [
    "## test the function to draw the bounding box"
   ]
  },
  {
   "cell_type": "code",
   "execution_count": 9,
   "metadata": {
    "ExecuteTime": {
     "end_time": "2019-10-24T13:58:09.515042Z",
     "start_time": "2019-10-24T13:58:09.365071Z"
    }
   },
   "outputs": [
    {
     "data": {
      "image/svg+xml": [
       "<svg xmlns=\"http://www.w3.org/2000/svg\" xmlns:xlink=\"http://www.w3.org/1999/xlink\" width=\"100.0\" height=\"100.0\" viewBox=\"-122.4597089767456 47.73422069549561 4.634857177165941e-05 4.634857177165941e-05\" preserveAspectRatio=\"xMinYMin meet\"><g transform=\"matrix(1,0,0,-1,0,95.46848773956299)\"><path fill-rule=\"evenodd\" fill=\"#66cc99\" stroke=\"#555555\" stroke-width=\"9.269714354331881e-07\" opacity=\"0.6\" d=\"M -122.45970726013184,47.73426532745361 L -122.45970726013184,47.734222412109375 L -122.4596643447876,47.734222412109375 L -122.4596643447876,47.73426532745361 L -122.45970726013184,47.73426532745361 z\" /></g></svg>"
      ],
      "text/plain": [
       "<shapely.geometry.polygon.Polygon at 0x7faf5df32160>"
      ]
     },
     "execution_count": 9,
     "metadata": {},
     "output_type": "execute_result"
    }
   ],
   "source": [
    "hash_bounds = geohash.bounds(upperleft_geohash)\n",
    "n_y = hash_bounds.ne.lat\n",
    "w_x = hash_bounds.sw.lon\n",
    "s_y = hash_bounds.sw.lat\n",
    "e_x = hash_bounds.ne.lon\n",
    "nw_pt = [w_x, n_y]\n",
    "sw_pt = [w_x, s_y]\n",
    "ne_pt = [e_x, n_y]\n",
    "se_pt = [e_x, s_y]\n",
    "Polygon([nw_pt, sw_pt, se_pt, ne_pt, nw_pt])"
   ]
  },
  {
   "cell_type": "code",
   "execution_count": 10,
   "metadata": {
    "ExecuteTime": {
     "end_time": "2019-10-24T13:58:09.789901Z",
     "start_time": "2019-10-24T13:58:09.518969Z"
    }
   },
   "outputs": [],
   "source": [
    "#modified from source: https://blog.tafkas.net/2018/09/28/creating-a-grid-based-on-geohashes/\n",
    "def is_geohash_in_bounding_box(current_geohash, bbox_coordinates):\n",
    "    \"\"\"Checks if the box of a geohash is inside the bounding box\n",
    "\n",
    "    :param current_geohash: a geohash\n",
    "    :param bbox_coordinates: bounding box coordinates\n",
    "    :return: true if the the center of the geohash is in the bounding box\n",
    "    \"\"\"\n",
    "\n",
    "    coordinates = geohash.decode(current_geohash)\n",
    "    geohash_in_bounding_box = (bbox_coordinates[1] < coordinates[0] < bbox_coordinates[3]) and (\n",
    "            bbox_coordinates[0] < coordinates[1] < bbox_coordinates[2])\n",
    "    return geohash_in_bounding_box\n",
    "\n",
    "def build_geohash_box(current_geohash):\n",
    "    \"\"\"Returns a shapely Polygon for a given geohash\n",
    "\n",
    "    :param current_geohash: a geohash\n",
    "    :return: a list representation of th polygon\n",
    "    \"\"\"\n",
    "    hash_bounds = geohash.bounds(current_geohash)\n",
    "    n_y = hash_bounds.ne.lat\n",
    "    w_x = hash_bounds.sw.lon\n",
    "    s_y = hash_bounds.sw.lat\n",
    "    e_x = hash_bounds.ne.lon\n",
    "    nw_pt = [w_x, n_y]\n",
    "    sw_pt = [w_x, s_y]\n",
    "    ne_pt = [e_x, n_y]\n",
    "    se_pt = [e_x, s_y]\n",
    "    return Polygon([nw_pt, sw_pt, se_pt, ne_pt, nw_pt])\n",
    "\n",
    "def compute_geohash_tiles(bbox_coordinates, geohash_precision):\n",
    "    \"\"\"Computes all geohash tile in the given bounding box\n",
    "\n",
    "    :param bbox_coordinates: the bounding box coordinates of the geohashes\n",
    "    :return: a list of geohashes\n",
    "    Geohash length\tCell width\tCell height\n",
    "    1\t≤ 5,000km\t×\t5,000km\n",
    "    2\t≤ 1,250km\t×\t625km\n",
    "    3\t≤ 156km\t×\t156km\n",
    "    4\t≤ 39.1km\t×\t19.5km\n",
    "    5\t≤ 4.89km\t×\t4.89km\n",
    "    6\t≤ 1.22km\t×\t0.61km\n",
    "    7\t≤ 153m\t×\t153m\n",
    "    8\t≤ 38.2m\t×\t19.1m\n",
    "    9\t≤ 4.77m\t×\t4.77m\n",
    "    10\t≤ 1.19m\t×\t0.596m\n",
    "    11\t≤ 149mm\t×\t149mm\n",
    "    12\t≤ 37.2mm\t×\t18.6mm\n",
    "    \"\"\"\n",
    "\n",
    "    checked_geohashes = set()\n",
    "    geohash_stack = set()\n",
    "    geohashes = []\n",
    "    #geohash_precision = 7\n",
    "    # get center of bounding box, assuming the earth is flat ;)\n",
    "    center_latitude = (bbox_coordinates[1] + bbox_coordinates[3]) / 2\n",
    "    center_longitude = (bbox_coordinates[0] + bbox_coordinates[2]) / 2\n",
    "\n",
    "    center_geohash = geohash.encode(center_latitude, center_longitude, precision=geohash_precision)\n",
    "    geohashes.append(center_geohash)\n",
    "    geohash_stack.add(center_geohash)\n",
    "    checked_geohashes.add(center_geohash)\n",
    "    while len(geohash_stack) > 0:\n",
    "        current_geohash = geohash_stack.pop()\n",
    "        neighbors = geohash.neighbours(current_geohash)\n",
    "        for neighbor in neighbors:\n",
    "            if neighbor not in checked_geohashes and is_geohash_in_bounding_box(neighbor, bbox_coordinates):\n",
    "                geohashes.append(neighbor)\n",
    "                geohash_stack.add(neighbor)\n",
    "                checked_geohashes.add(neighbor)\n",
    "    return geohashes"
   ]
  },
  {
   "cell_type": "code",
   "execution_count": 11,
   "metadata": {
    "ExecuteTime": {
     "end_time": "2019-10-24T13:58:15.264093Z",
     "start_time": "2019-10-24T13:58:10.014225Z"
    }
   },
   "outputs": [],
   "source": [
    "geohash_precision = 6\n",
    "geohash_list = compute_geohash_tiles(seattle_bounds, geohash_precision)"
   ]
  },
  {
   "cell_type": "code",
   "execution_count": 12,
   "metadata": {
    "ExecuteTime": {
     "end_time": "2019-10-24T13:58:15.274237Z",
     "start_time": "2019-10-24T13:58:15.268238Z"
    }
   },
   "outputs": [],
   "source": [
    "seattle_geohash_df = pd.DataFrame(geohash_list, columns=['geohash'])"
   ]
  },
  {
   "cell_type": "code",
   "execution_count": 13,
   "metadata": {
    "ExecuteTime": {
     "end_time": "2019-10-24T13:58:18.709814Z",
     "start_time": "2019-10-24T13:58:15.294117Z"
    }
   },
   "outputs": [],
   "source": [
    "seattle_geohash_df['geometry'] = seattle_geohash_df.apply(lambda x: build_geohash_box(x['geohash']), axis=1)"
   ]
  },
  {
   "cell_type": "code",
   "execution_count": 14,
   "metadata": {
    "ExecuteTime": {
     "end_time": "2019-10-24T13:58:18.725271Z",
     "start_time": "2019-10-24T13:58:18.714124Z"
    }
   },
   "outputs": [],
   "source": [
    "seattle_geohash_gpd = gpd.GeoDataFrame(seattle_geohash_df[['geohash']], crs={'init':'4326'}, geometry=seattle_geohash_df['geometry'].tolist())"
   ]
  },
  {
   "cell_type": "code",
   "execution_count": 15,
   "metadata": {
    "ExecuteTime": {
     "end_time": "2019-10-24T13:58:20.995531Z",
     "start_time": "2019-10-24T13:58:18.742219Z"
    }
   },
   "outputs": [
    {
     "data": {
      "text/plain": [
       "<matplotlib.axes._subplots.AxesSubplot at 0x7faf5bccea58>"
      ]
     },
     "execution_count": 15,
     "metadata": {},
     "output_type": "execute_result"
    },
    {
     "data": {
      "image/png": "[encoded data removed]",
      "text/plain": [
       "<Figure size 504x1440 with 1 Axes>"
      ]
     },
     "metadata": {
      "needs_background": "light"
     },
     "output_type": "display_data"
    }
   ],
   "source": [
    "fig, ax = plt.subplots(figsize=(7,20))\n",
    "single_city.plot(ax=ax, color='None',edgecolor='blue',linewidth=2 )\n",
    "seattle_geohash_gpd.plot(ax=ax, color='None',edgecolor='black')\n"
   ]
  },
  {
   "cell_type": "markdown",
   "metadata": {},
   "source": [
    "# save to json if you want to view on a web map or QGIS etc"
   ]
  },
  {
   "cell_type": "code",
   "execution_count": 16,
   "metadata": {
    "ExecuteTime": {
     "end_time": "2019-10-24T13:58:21.398513Z",
     "start_time": "2019-10-24T13:58:20.999800Z"
    }
   },
   "outputs": [],
   "source": [
    "seattle_geohash_json = seattle_geohash_gpd.to_json()"
   ]
  },
  {
   "cell_type": "code",
   "execution_count": 17,
   "metadata": {
    "ExecuteTime": {
     "end_time": "2019-10-24T13:58:21.534973Z",
     "start_time": "2019-10-24T13:58:21.402676Z"
    }
   },
   "outputs": [],
   "source": [
    "with open(f\"seattle_geohash_boxes_level{geohash_precision}.geojson\", 'w') as f:\n",
    "    f.write(seattle_geohash_json)"
   ]
  },
  {
   "cell_type": "code",
   "execution_count": null,
   "metadata": {},
   "outputs": [],
   "source": []
  }
 ],
 "metadata": {
  "kernelspec": {
   "display_name": "Python 3",
   "language": "python",
   "name": "python3"
  },
  "language_info": {
   "codemirror_mode": {
    "name": "ipython",
    "version": 3
   },
   "file_extension": ".py",
   "mimetype": "text/x-python",
   "name": "python",
   "nbconvert_exporter": "python",
   "pygments_lexer": "ipython3",
   "version": "3.6.7"
  }
 },
 "nbformat": 4,
 "nbformat_minor": 4
}
