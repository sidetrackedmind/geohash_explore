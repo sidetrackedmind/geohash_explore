{
 "cells": [
  {
   "cell_type": "code",
   "execution_count": 1,
   "metadata": {
    "ExecuteTime": {
     "end_time": "2019-10-24T13:58:59.669853Z",
     "start_time": "2019-10-24T13:58:58.417775Z"
    }
   },
   "outputs": [],
   "source": [
    "import pandas as pd\n",
    "from math import sin, cos, sqrt, atan2, radians\n",
    "import numpy as np\n",
    "import os\n",
    "import time\n",
    "import gc\n",
    "import geopandas as gpd\n",
    "from geolib import geohash\n",
    "import matplotlib.pyplot as plt\n",
    "import matplotlib\n",
    "from shapely.geometry import Point, Polygon, MultiPolygon\n",
    "%matplotlib inline"
   ]
  },
  {
   "cell_type": "code",
   "execution_count": 2,
   "metadata": {
    "ExecuteTime": {
     "end_time": "2019-10-24T13:59:00.323623Z",
     "start_time": "2019-10-24T13:58:59.673542Z"
    }
   },
   "outputs": [],
   "source": [
    "from cartoframes.viz import Map, Layer, basemaps\n",
    "from cartoframes.viz.helpers import color_continuous_layer, color_bins_layer, utils\n",
    "from matplotlib import cm\n",
    "from cartoframes.data import Dataset"
   ]
  },
  {
   "cell_type": "code",
   "execution_count": 3,
   "metadata": {
    "ExecuteTime": {
     "end_time": "2019-10-24T13:59:02.118325Z",
     "start_time": "2019-10-24T13:59:00.368577Z"
    }
   },
   "outputs": [
    {
     "name": "stderr",
     "output_type": "stream",
     "text": [
      "/opt/conda/envs/thundergeo/lib/python3.6/site-packages/pysal/explore/segregation/network/network.py:16: UserWarning: You need pandana and urbanaccess to work with segregation's network module\n",
      "You can install them with  `pip install urbanaccess pandana` or `conda install -c udst pandana urbanaccess`\n",
      "  \"You need pandana and urbanaccess to work with segregation's network module\\n\"\n",
      "/opt/conda/envs/thundergeo/lib/python3.6/site-packages/pysal/model/spvcm/abstracts.py:10: UserWarning: The `dill` module is required to use the sqlite backend fully.\n",
      "  from .sqlite import head_to_sql, start_sql\n"
     ]
    }
   ],
   "source": [
    "import ipywidgets as widgets\n",
    "from ipywidgets import interact, interact_manual\n",
    "import mplleaflet\n",
    "import osmnx as ox\n",
    "import pysal as ps"
   ]
  },
  {
   "cell_type": "code",
   "execution_count": 4,
   "metadata": {
    "ExecuteTime": {
     "end_time": "2019-10-24T13:59:02.751471Z",
     "start_time": "2019-10-24T13:59:02.122457Z"
    }
   },
   "outputs": [],
   "source": [
    "city_df = gpd.read_file(\"king_county_admin_mapfiles/city.shp\")\n",
    "city_of_interest = 'Seattle'\n",
    "single_city = city_df[city_df['CITYNAME']==city_of_interest].copy()\n",
    "single_city.to_crs({'init': 'epsg:4326'}, inplace=True)"
   ]
  },
  {
   "cell_type": "code",
   "execution_count": 5,
   "metadata": {
    "ExecuteTime": {
     "end_time": "2019-10-24T13:59:02.994149Z",
     "start_time": "2019-10-24T13:59:02.755550Z"
    }
   },
   "outputs": [],
   "source": [
    "seattle_geohash = gpd.read_file(\"seattle_geohash_boxes_level6.geojson\")"
   ]
  },
  {
   "cell_type": "code",
   "execution_count": 6,
   "metadata": {
    "ExecuteTime": {
     "end_time": "2019-10-24T13:59:04.187483Z",
     "start_time": "2019-10-24T13:59:03.001319Z"
    }
   },
   "outputs": [
    {
     "data": {
      "application/vnd.jupyter.widget-view+json": {
       "model_id": "778126e3345b4c3eba8238cd4b11032f",
       "version_major": 2,
       "version_minor": 0
      },
      "text/plain": [
       "interactive(children=(Dropdown(description='index_of_interest', index=1, options=(0, 1, 2, 3, 4, 5, 6, 7, 8, 9…"
      ]
     },
     "metadata": {},
     "output_type": "display_data"
    }
   ],
   "source": [
    "@interact(index_of_interest=range(seattle_geohash.index.min(), seattle_geohash.index.max()))\n",
    "def show_geohash_group_by_year(index_of_interest=1,weights=['Rook','Queen','KNN','DistanceBand']):\n",
    "    fig, ax = plt.subplots(figsize=(5,7))\n",
    "    \n",
    "    if weights == 'Rook':\n",
    "        seattle_geohash_w = ps.lib.weights.Rook.from_dataframe(seattle_geohash)\n",
    "    elif weights == 'Queen':\n",
    "        seattle_geohash_w = ps.lib.weights.Queen.from_dataframe(seattle_geohash)\n",
    "    elif weights == 'KNN':\n",
    "        seattle_geohash_w = ps.lib.weights.KNN.from_dataframe(seattle_geohash, k=8)\n",
    "    elif weights == 'DistanceBand':\n",
    "        seattle_geohash_w = ps.lib.weights.DistanceBand.from_dataframe(seattle_geohash,threshold=0.025)\n",
    "\n",
    "    index_geohash = seattle_geohash.loc[index_of_interest:index_of_interest].copy()\n",
    "    neighbor_geohash = seattle_geohash.loc[(seattle_geohash_w.neighbors[index_of_interest])].copy()\n",
    "\n",
    "    single_city.plot(color='none', \n",
    "                       edgecolor='black', \n",
    "                      ax=ax)\n",
    "\n",
    "    neighbor_geohash.plot(color='none', \n",
    "                       edgecolor='black', \n",
    "                      ax=ax)\n",
    "\n",
    "    index_geohash.plot(color='blue',\n",
    "                      ax=ax)"
   ]
  },
  {
   "cell_type": "code",
   "execution_count": 7,
   "metadata": {
    "ExecuteTime": {
     "end_time": "2019-10-24T14:07:24.531076Z",
     "start_time": "2019-10-24T14:07:24.080878Z"
    }
   },
   "outputs": [
    {
     "data": {
      "application/vnd.jupyter.widget-view+json": {
       "model_id": "ede45cca32294b3fbc2ba9127544c14f",
       "version_major": 2,
       "version_minor": 0
      },
      "text/plain": [
       "interactive(children=(Dropdown(description='index_of_interest', index=1, options=(0, 1, 2, 3, 4, 5, 6, 7, 8, 9…"
      ]
     },
     "metadata": {},
     "output_type": "display_data"
    }
   ],
   "source": [
    "@interact(index_of_interest=range(seattle_geohash.index.min(), seattle_geohash.index.max()))\n",
    "def show_geohash_group_by_year(index_of_interest=1,weights=['Rook','Queen','KNN','DistanceBand']):\n",
    "   \n",
    "    if weights == 'Rook':\n",
    "        seattle_geohash_w = ps.lib.weights.Rook.from_dataframe(seattle_geohash)\n",
    "    elif weights == 'Queen':\n",
    "        seattle_geohash_w = ps.lib.weights.Queen.from_dataframe(seattle_geohash)\n",
    "    elif weights == 'KNN':\n",
    "        seattle_geohash_w = ps.lib.weights.KNN.from_dataframe(seattle_geohash, k=8)\n",
    "    elif weights == 'DistanceBand':\n",
    "        seattle_geohash_w = ps.lib.weights.DistanceBand.from_dataframe(seattle_geohash,threshold=0.025)\n",
    "\n",
    "    index_geohash = seattle_geohash.loc[index_of_interest:index_of_interest].copy()\n",
    "    neighbor_geohash = seattle_geohash.loc[(seattle_geohash_w.neighbors[index_of_interest])].copy()\n",
    "\n",
    "    display(Map(\n",
    "        \n",
    "        [Layer(single_city,\n",
    "              'color: transparent'\n",
    "             ),\n",
    "         Layer(neighbor_geohash,\n",
    "              'color: white'\n",
    "             ),\n",
    "        Layer(index_geohash,\n",
    "              'color: blue'\n",
    "             )]\n",
    "    ))"
   ]
  },
  {
   "cell_type": "markdown",
   "metadata": {},
   "source": [
    "# instead of geohash, try the same by cutting the Seattle polygon into pieces"
   ]
  },
  {
   "cell_type": "code",
   "execution_count": 8,
   "metadata": {
    "ExecuteTime": {
     "end_time": "2019-10-24T14:08:33.790506Z",
     "start_time": "2019-10-24T14:08:33.511876Z"
    }
   },
   "outputs": [],
   "source": [
    "# make the geometry a multipolygon if it's not already\n",
    "geometry = single_city['geometry'].iloc[0]\n",
    "if isinstance(geometry, Polygon):\n",
    "    geometry = MultiPolygon([geometry])\n",
    "geometry_cut = ox.quadrat_cut_geometry(geometry, quadrat_width=0.01)\n",
    "seattle_cut = gpd.GeoDataFrame(crs={'init':'4326'}\n",
    "                 ,geometry=[geom for geom in geometry_cut.geoms])"
   ]
  },
  {
   "cell_type": "code",
   "execution_count": 9,
   "metadata": {
    "ExecuteTime": {
     "end_time": "2019-10-24T14:08:34.762299Z",
     "start_time": "2019-10-24T14:08:34.304713Z"
    }
   },
   "outputs": [
    {
     "data": {
      "text/plain": [
       "<matplotlib.axes._subplots.AxesSubplot at 0x7fec8ad00908>"
      ]
     },
     "execution_count": 9,
     "metadata": {},
     "output_type": "execute_result"
    },
    {
     "data": {
      "image/png": "[encoded data removed]",
      "text/plain": [
       "<Figure size 432x288 with 1 Axes>"
      ]
     },
     "metadata": {
      "needs_background": "light"
     },
     "output_type": "display_data"
    }
   ],
   "source": [
    "seattle_cut.plot(color='none', \n",
    "                       edgecolor='black')"
   ]
  },
  {
   "cell_type": "markdown",
   "metadata": {},
   "source": [
    "# TO DO - find out why `Rook` and `Queen` neighbors are not registering with the `os.quadrant_cut_geometry` pieces. My guess is that the polygons do not \"touch\" in the correct way"
   ]
  },
  {
   "cell_type": "code",
   "execution_count": 10,
   "metadata": {
    "ExecuteTime": {
     "end_time": "2019-10-24T14:08:37.964822Z",
     "start_time": "2019-10-24T14:08:37.386163Z"
    }
   },
   "outputs": [
    {
     "data": {
      "application/vnd.jupyter.widget-view+json": {
       "model_id": "1349071ac9964e058b2d5174956f23b4",
       "version_major": 2,
       "version_minor": 0
      },
      "text/plain": [
       "interactive(children=(Dropdown(description='index_of_interest', index=1, options=(0, 1, 2, 3, 4, 5, 6, 7, 8, 9…"
      ]
     },
     "metadata": {},
     "output_type": "display_data"
    }
   ],
   "source": [
    "@interact(index_of_interest=range(seattle_cut.index.min(), seattle_cut.index.max()))\n",
    "def show_geohash_group_by_year(index_of_interest=1,weights=['Rook','Queen','KNN','DistanceBand']):\n",
    "    fig, ax = plt.subplots(figsize=(5,7))\n",
    "    \n",
    "    if weights == 'Rook':\n",
    "        seattle_cut_w = ps.lib.weights.Rook.from_dataframe(seattle_cut)\n",
    "    elif weights == 'Queen':\n",
    "        seattle_cut_w = ps.lib.weights.Queen.from_dataframe(seattle_cut)\n",
    "    elif weights == 'KNN':\n",
    "        seattle_cut_w = ps.lib.weights.KNN.from_dataframe(seattle_cut, k=8)\n",
    "    elif weights == 'DistanceBand':\n",
    "        seattle_cut_w = ps.lib.weights.DistanceBand.from_dataframe(seattle_cut,threshold=0.025)\n",
    "\n",
    "    index_cut = seattle_cut.loc[index_of_interest:index_of_interest].copy()\n",
    "    neighbor_cut = seattle_cut.loc[(seattle_cut_w.neighbors[index_of_interest])].copy()\n",
    "\n",
    "    single_city.plot(color='none', \n",
    "                       edgecolor='black', \n",
    "                      ax=ax)\n",
    "\n",
    "    neighbor_cut.plot(color='none', \n",
    "                       edgecolor='black', \n",
    "                      ax=ax)\n",
    "\n",
    "    index_cut.plot(color='blue',\n",
    "                      ax=ax)"
   ]
  }
 ],
 "metadata": {
  "kernelspec": {
   "display_name": "Python 3",
   "language": "python",
   "name": "python3"
  },
  "language_info": {
   "codemirror_mode": {
    "name": "ipython",
    "version": 3
   },
   "file_extension": ".py",
   "mimetype": "text/x-python",
   "name": "python",
   "nbconvert_exporter": "python",
   "pygments_lexer": "ipython3",
   "version": "3.6.7"
  }
 },
 "nbformat": 4,
 "nbformat_minor": 4
}
